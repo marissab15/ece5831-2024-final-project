{
 "cells": [
  {
   "cell_type": "code",
   "id": "initial_id",
   "metadata": {
    "collapsed": true,
    "ExecuteTime": {
     "end_time": "2024-12-14T21:48:27.950029Z",
     "start_time": "2024-12-14T21:48:27.930548Z"
    }
   },
   "source": [
    "import pandas as pd\n",
    "import numpy as np\n",
    "import tensorflow as tf\n",
    "from tensorflow.python.ops.logging_ops import Print\n"
   ],
   "outputs": [],
   "execution_count": 200
  },
  {
   "metadata": {
    "ExecuteTime": {
     "end_time": "2024-12-14T21:48:27.965546Z",
     "start_time": "2024-12-14T21:48:27.957909Z"
    }
   },
   "cell_type": "code",
   "source": "fp = \"QB data.xlsx\"",
   "id": "4ef7844b7e411ce8",
   "outputs": [],
   "execution_count": 201
  },
  {
   "metadata": {
    "ExecuteTime": {
     "end_time": "2024-12-14T21:48:28.044010Z",
     "start_time": "2024-12-14T21:48:28.030672Z"
    }
   },
   "cell_type": "code",
   "source": [
    "def prep(file_path):\n",
    "    \n",
    "    df_list = []\n",
    "    xls = pd.ExcelFile(file_path)\n",
    "    for sheet_name in xls.sheet_names:\n",
    "        df = pd.read_excel(xls, sheet_name=sheet_name, nrows=25)\n",
    "        df['Year'] = sheet_name\n",
    "        df_list.append(df)\n",
    "    new = pd.concat(df_list, ignore_index=True)\n",
    "    # print(new)\n",
    "    return new\n",
    "    \n"
   ],
   "id": "c5ca3f60500e461",
   "outputs": [],
   "execution_count": 202
  },
  {
   "metadata": {
    "ExecuteTime": {
     "end_time": "2024-12-14T21:48:28.945632Z",
     "start_time": "2024-12-14T21:48:28.091950Z"
    }
   },
   "cell_type": "code",
   "source": [
    "all = prep(fp)\n",
    "all['Awards'] = all['Awards'].apply(lambda x: x[2] if isinstance(x, str) and len(x) >= 3 else \"\")\n",
    "all['Year'] = all['Year'].astype(int)\n",
    "# all.to_csv(\"aaa\")\n",
    "# print(all)"
   ],
   "id": "b2dbd3aa577d96ad",
   "outputs": [],
   "execution_count": 203
  },
  {
   "metadata": {
    "ExecuteTime": {
     "end_time": "2024-12-14T21:48:29.008589Z",
     "start_time": "2024-12-14T21:48:28.993820Z"
    }
   },
   "cell_type": "code",
   "source": [
    "Train = all[all['Year'].apply(lambda x: str(x)[-1] not in ['0', '5'])]\n",
    "Test = all[all['Year'].apply(lambda x: str(x)[-1] in ['0', '5'])]\n",
    "\n",
    "X_train = Train.drop(columns=['Rk', 'Player', 'Team', 'Conf', 'Awards'], axis=1)\n",
    "Y_train = Train['Rk']\n",
    "\n",
    "X_test_name = Test['Player']\n",
    "X_test_year = Test['Year']\n",
    "X_test = Test.drop(columns=['Rk', 'Player', 'Team', 'Conf', 'Awards'], axis=1)\n",
    "Y_test = Test['Rk']\n",
    "\n",
    "\n"
   ],
   "id": "7654dff6211322eb",
   "outputs": [],
   "execution_count": 204
  },
  {
   "metadata": {
    "ExecuteTime": {
     "end_time": "2024-12-14T21:48:29.071616Z",
     "start_time": "2024-12-14T21:48:29.058931Z"
    }
   },
   "cell_type": "code",
   "source": "print(X_test_name)",
   "id": "fccf69885eb93541",
   "outputs": [
    {
     "name": "stdout",
     "output_type": "stream",
     "text": [
      "75           Mac Jones*\n",
      "76          Kyle Trask*\n",
      "77         Zach Wilson*\n",
      "78          Sam Howell*\n",
      "79      Dillon Gabriel*\n",
      "             ...       \n",
      "720          Mike Fouts\n",
      "721         Patrick Nix\n",
      "722    Mark Butterfield\n",
      "723           Mike Groh\n",
      "724       Tony Graziani\n",
      "Name: Player, Length: 150, dtype: object\n"
     ]
    }
   ],
   "execution_count": 205
  },
  {
   "metadata": {
    "ExecuteTime": {
     "end_time": "2024-12-14T21:48:29.150203Z",
     "start_time": "2024-12-14T21:48:29.135636Z"
    }
   },
   "cell_type": "code",
   "source": [
    "c= X_train.loc[1,'Year']\n",
    "print(type(c))"
   ],
   "id": "cedc521bd5b2d4db",
   "outputs": [
    {
     "name": "stdout",
     "output_type": "stream",
     "text": [
      "<class 'numpy.int32'>\n"
     ]
    }
   ],
   "execution_count": 206
  },
  {
   "metadata": {
    "ExecuteTime": {
     "end_time": "2024-12-14T21:48:29.212208Z",
     "start_time": "2024-12-14T21:48:29.199587Z"
    }
   },
   "cell_type": "code",
   "source": "print(X_train, Y_train)",
   "id": "411269a15388cd98",
   "outputs": [
    {
     "name": "stdout",
     "output_type": "stream",
     "text": [
      "      G  Cmp  Att  Cmp%   Yds  TD   TD%  Int  Int%   Y/A   AY/A   Y/C    Y/G  \\\n",
      "0    15  363  555  65.4  4903  36   6.5   11   2.0   8.8   9.24  13.5  326.9   \n",
      "1    14  364  470  77.4  4508  45   9.6    3   0.6   9.6  11.22  12.4  322.0   \n",
      "2    14  302  417  72.4  3941  24   5.8    6   1.4   9.5   9.95  13.0  281.5   \n",
      "3    13  318  476  66.8  3883  32   6.7    9   1.9   8.2   8.65  12.2  298.7   \n",
      "4    12  236  327  72.2  3812  40  12.2    4   1.2  11.7  13.55  16.2  317.7   \n",
      "..   ..  ...  ...   ...   ...  ..   ...  ...   ...   ...    ...   ...    ...   \n",
      "770  11  196  356  55.1  2608  21   5.9   16   4.5   7.3   6.48  13.3  237.1   \n",
      "771  11  213  388  54.9  2563  12   3.1   14   3.6   6.6   5.60  12.0  233.0   \n",
      "772  11  171  280  61.1  2547  15   5.4   11   3.9   9.1   8.40  14.9  231.5   \n",
      "773  11  179  373  48.0  2490  17   4.6   26   7.0   6.7   4.45  13.9  226.4   \n",
      "774  11  177  304  58.2  2490  17   5.6    8   2.6   8.2   8.13  14.1  226.4   \n",
      "\n",
      "      Rate  Year  \n",
      "0    157.1  2023  \n",
      "1    188.3  2023  \n",
      "2    167.9  2023  \n",
      "3    153.7  2023  \n",
      "4    208.0  2023  \n",
      "..     ...   ...  \n",
      "770  127.1  1993  \n",
      "771  113.4  1993  \n",
      "772  147.3  1993  \n",
      "773  105.2  1993  \n",
      "774  140.2  1993  \n",
      "\n",
      "[625 rows x 15 columns] 0       1\n",
      "1       2\n",
      "2       3\n",
      "3       4\n",
      "4       5\n",
      "       ..\n",
      "770    21\n",
      "771    22\n",
      "772    23\n",
      "773    24\n",
      "774    25\n",
      "Name: Rk, Length: 625, dtype: int64\n"
     ]
    }
   ],
   "execution_count": 207
  },
  {
   "metadata": {
    "ExecuteTime": {
     "end_time": "2024-12-14T21:48:29.274385Z",
     "start_time": "2024-12-14T21:48:29.259578Z"
    }
   },
   "cell_type": "code",
   "source": [
    "X_train = np.array(X_train)\n",
    "Y_train = np.array(Y_train)\n",
    "X_test = np.array(X_test)\n",
    "Y_test = np.array(Y_test)"
   ],
   "id": "4985e964c19ab99a",
   "outputs": [],
   "execution_count": 208
  },
  {
   "metadata": {
    "ExecuteTime": {
     "end_time": "2024-12-14T21:48:29.335972Z",
     "start_time": "2024-12-14T21:48:29.322313Z"
    }
   },
   "cell_type": "code",
   "source": "print(X_train.shape, Y_train.shape)",
   "id": "c54e2db45bfd9b27",
   "outputs": [
    {
     "name": "stdout",
     "output_type": "stream",
     "text": [
      "(625, 15) (625,)\n"
     ]
    }
   ],
   "execution_count": 209
  },
  {
   "metadata": {
    "ExecuteTime": {
     "end_time": "2024-12-14T21:48:29.397355Z",
     "start_time": "2024-12-14T21:48:29.384107Z"
    }
   },
   "cell_type": "code",
   "source": "input_weights = tf.constant([1.0, 1.0, 1.0, 1.0, 1.0, 2.0])",
   "id": "6698d49c53767027",
   "outputs": [],
   "execution_count": 210
  },
  {
   "metadata": {
    "ExecuteTime": {
     "end_time": "2024-12-14T21:48:29.459200Z",
     "start_time": "2024-12-14T21:48:29.445726Z"
    }
   },
   "cell_type": "code",
   "source": [
    "model = tf.keras.Sequential([\n",
    "            \n",
    "             # tf.keras.WeightedInputLayer(weights=input_weights, input_shape=(6,)),\n",
    "            tf.keras.layers.Dense(64, activation='relu'),\n",
    "            tf.keras.layers.Dense(64, activation='relu'),\n",
    "            tf.keras.layers.Dense(1)\n",
    "        ])\n",
    "model.compile(optimizer='Adam', loss='mse', metrics=['accuracy'])"
   ],
   "id": "6ca9cf3f0f4c62d",
   "outputs": [],
   "execution_count": 211
  },
  {
   "metadata": {
    "ExecuteTime": {
     "end_time": "2024-12-14T21:48:31.604241Z",
     "start_time": "2024-12-14T21:48:29.507820Z"
    }
   },
   "cell_type": "code",
   "source": "model.fit(X_train, Y_train, epochs=20, batch_size=32, validation_data=(X_test, Y_test))",
   "id": "a05fa853edbd0df5",
   "outputs": [
    {
     "name": "stdout",
     "output_type": "stream",
     "text": [
      "Epoch 1/20\n",
      "\u001B[1m20/20\u001B[0m \u001B[32m━━━━━━━━━━━━━━━━━━━━\u001B[0m\u001B[37m\u001B[0m \u001B[1m1s\u001B[0m 8ms/step - accuracy: 0.0159 - loss: 193049.5156 - val_accuracy: 0.0400 - val_loss: 3892.3474\n",
      "Epoch 2/20\n",
      "\u001B[1m20/20\u001B[0m \u001B[32m━━━━━━━━━━━━━━━━━━━━\u001B[0m\u001B[37m\u001B[0m \u001B[1m0s\u001B[0m 2ms/step - accuracy: 0.0219 - loss: 7363.1274 - val_accuracy: 0.0400 - val_loss: 2835.6624\n",
      "Epoch 3/20\n",
      "\u001B[1m20/20\u001B[0m \u001B[32m━━━━━━━━━━━━━━━━━━━━\u001B[0m\u001B[37m\u001B[0m \u001B[1m0s\u001B[0m 2ms/step - accuracy: 0.0334 - loss: 3025.8997 - val_accuracy: 0.0333 - val_loss: 638.4032\n",
      "Epoch 4/20\n",
      "\u001B[1m20/20\u001B[0m \u001B[32m━━━━━━━━━━━━━━━━━━━━\u001B[0m\u001B[37m\u001B[0m \u001B[1m0s\u001B[0m 2ms/step - accuracy: 0.0388 - loss: 381.7687 - val_accuracy: 0.0267 - val_loss: 104.1273\n",
      "Epoch 5/20\n",
      "\u001B[1m20/20\u001B[0m \u001B[32m━━━━━━━━━━━━━━━━━━━━\u001B[0m\u001B[37m\u001B[0m \u001B[1m0s\u001B[0m 2ms/step - accuracy: 0.0359 - loss: 85.6739 - val_accuracy: 0.0267 - val_loss: 68.8661\n",
      "Epoch 6/20\n",
      "\u001B[1m20/20\u001B[0m \u001B[32m━━━━━━━━━━━━━━━━━━━━\u001B[0m\u001B[37m\u001B[0m \u001B[1m0s\u001B[0m 2ms/step - accuracy: 0.0226 - loss: 42.6181 - val_accuracy: 0.0267 - val_loss: 63.7052\n",
      "Epoch 7/20\n",
      "\u001B[1m20/20\u001B[0m \u001B[32m━━━━━━━━━━━━━━━━━━━━\u001B[0m\u001B[37m\u001B[0m \u001B[1m0s\u001B[0m 2ms/step - accuracy: 0.0209 - loss: 40.5209 - val_accuracy: 0.0333 - val_loss: 64.3087\n",
      "Epoch 8/20\n",
      "\u001B[1m20/20\u001B[0m \u001B[32m━━━━━━━━━━━━━━━━━━━━\u001B[0m\u001B[37m\u001B[0m \u001B[1m0s\u001B[0m 3ms/step - accuracy: 0.0262 - loss: 37.6988 - val_accuracy: 0.0267 - val_loss: 61.9167\n",
      "Epoch 9/20\n",
      "\u001B[1m20/20\u001B[0m \u001B[32m━━━━━━━━━━━━━━━━━━━━\u001B[0m\u001B[37m\u001B[0m \u001B[1m0s\u001B[0m 2ms/step - accuracy: 0.0306 - loss: 36.9058 - val_accuracy: 0.0400 - val_loss: 66.4908\n",
      "Epoch 10/20\n",
      "\u001B[1m20/20\u001B[0m \u001B[32m━━━━━━━━━━━━━━━━━━━━\u001B[0m\u001B[37m\u001B[0m \u001B[1m0s\u001B[0m 2ms/step - accuracy: 0.0227 - loss: 35.5269 - val_accuracy: 0.0333 - val_loss: 66.0049\n",
      "Epoch 11/20\n",
      "\u001B[1m20/20\u001B[0m \u001B[32m━━━━━━━━━━━━━━━━━━━━\u001B[0m\u001B[37m\u001B[0m \u001B[1m0s\u001B[0m 2ms/step - accuracy: 0.0251 - loss: 36.1803 - val_accuracy: 0.0333 - val_loss: 64.3801\n",
      "Epoch 12/20\n",
      "\u001B[1m20/20\u001B[0m \u001B[32m━━━━━━━━━━━━━━━━━━━━\u001B[0m\u001B[37m\u001B[0m \u001B[1m0s\u001B[0m 2ms/step - accuracy: 0.0309 - loss: 33.6554 - val_accuracy: 0.0267 - val_loss: 59.9941\n",
      "Epoch 13/20\n",
      "\u001B[1m20/20\u001B[0m \u001B[32m━━━━━━━━━━━━━━━━━━━━\u001B[0m\u001B[37m\u001B[0m \u001B[1m0s\u001B[0m 2ms/step - accuracy: 0.0207 - loss: 32.0291 - val_accuracy: 0.0267 - val_loss: 62.1213\n",
      "Epoch 14/20\n",
      "\u001B[1m20/20\u001B[0m \u001B[32m━━━━━━━━━━━━━━━━━━━━\u001B[0m\u001B[37m\u001B[0m \u001B[1m0s\u001B[0m 2ms/step - accuracy: 0.0223 - loss: 32.6837 - val_accuracy: 0.0267 - val_loss: 57.2174\n",
      "Epoch 15/20\n",
      "\u001B[1m20/20\u001B[0m \u001B[32m━━━━━━━━━━━━━━━━━━━━\u001B[0m\u001B[37m\u001B[0m \u001B[1m0s\u001B[0m 2ms/step - accuracy: 0.0213 - loss: 31.7191 - val_accuracy: 0.0333 - val_loss: 65.6088\n",
      "Epoch 16/20\n",
      "\u001B[1m20/20\u001B[0m \u001B[32m━━━━━━━━━━━━━━━━━━━━\u001B[0m\u001B[37m\u001B[0m \u001B[1m0s\u001B[0m 2ms/step - accuracy: 0.0133 - loss: 32.6585 - val_accuracy: 0.0200 - val_loss: 53.9375\n",
      "Epoch 17/20\n",
      "\u001B[1m20/20\u001B[0m \u001B[32m━━━━━━━━━━━━━━━━━━━━\u001B[0m\u001B[37m\u001B[0m \u001B[1m0s\u001B[0m 2ms/step - accuracy: 0.0168 - loss: 31.1747 - val_accuracy: 0.0333 - val_loss: 59.0336\n",
      "Epoch 18/20\n",
      "\u001B[1m20/20\u001B[0m \u001B[32m━━━━━━━━━━━━━━━━━━━━\u001B[0m\u001B[37m\u001B[0m \u001B[1m0s\u001B[0m 2ms/step - accuracy: 0.0235 - loss: 33.0521 - val_accuracy: 0.0333 - val_loss: 59.0124\n",
      "Epoch 19/20\n",
      "\u001B[1m20/20\u001B[0m \u001B[32m━━━━━━━━━━━━━━━━━━━━\u001B[0m\u001B[37m\u001B[0m \u001B[1m0s\u001B[0m 2ms/step - accuracy: 0.0263 - loss: 34.5126 - val_accuracy: 0.0200 - val_loss: 53.3293\n",
      "Epoch 20/20\n",
      "\u001B[1m20/20\u001B[0m \u001B[32m━━━━━━━━━━━━━━━━━━━━\u001B[0m\u001B[37m\u001B[0m \u001B[1m0s\u001B[0m 2ms/step - accuracy: 0.0248 - loss: 28.7790 - val_accuracy: 0.0200 - val_loss: 49.2989\n"
     ]
    },
    {
     "data": {
      "text/plain": [
       "<keras.src.callbacks.history.History at 0x1ecdd1ea6a0>"
      ]
     },
     "execution_count": 212,
     "metadata": {},
     "output_type": "execute_result"
    }
   ],
   "execution_count": 212
  },
  {
   "metadata": {
    "ExecuteTime": {
     "end_time": "2024-12-14T21:48:31.746583Z",
     "start_time": "2024-12-14T21:48:31.651762Z"
    }
   },
   "cell_type": "code",
   "source": [
    "predictions = model.predict(X_test)\n",
    "print(type(predictions.tolist()))\n",
    "# print(predictions)"
   ],
   "id": "4e975b9666c45566",
   "outputs": [
    {
     "name": "stdout",
     "output_type": "stream",
     "text": [
      "\u001B[1m5/5\u001B[0m \u001B[32m━━━━━━━━━━━━━━━━━━━━\u001B[0m\u001B[37m\u001B[0m \u001B[1m0s\u001B[0m 7ms/step \n",
      "<class 'list'>\n"
     ]
    }
   ],
   "execution_count": 213
  },
  {
   "metadata": {
    "ExecuteTime": {
     "end_time": "2024-12-14T21:48:31.809934Z",
     "start_time": "2024-12-14T21:48:31.796528Z"
    }
   },
   "cell_type": "code",
   "source": "print(type(X_test_name))",
   "id": "addbbf1141de016f",
   "outputs": [
    {
     "name": "stdout",
     "output_type": "stream",
     "text": [
      "<class 'pandas.core.series.Series'>\n"
     ]
    }
   ],
   "execution_count": 214
  },
  {
   "metadata": {
    "ExecuteTime": {
     "end_time": "2024-12-14T21:48:31.872515Z",
     "start_time": "2024-12-14T21:48:31.857911Z"
    }
   },
   "cell_type": "code",
   "source": [
    "new = pd.DataFrame()\n",
    "\n",
    "new.reset_index(drop=True, inplace=True)\n",
    "X_test_year.reset_index(drop=True, inplace=True)\n",
    "X_test_name.reset_index(drop=True, inplace=True)"
   ],
   "id": "278234e6a5c645a",
   "outputs": [],
   "execution_count": 215
  },
  {
   "metadata": {
    "ExecuteTime": {
     "end_time": "2024-12-14T21:48:31.934818Z",
     "start_time": "2024-12-14T21:48:31.920808Z"
    }
   },
   "cell_type": "code",
   "source": [
    "asa = pd.DataFrame(predictions)\n",
    "\n",
    "new['Prediction'] = asa\n",
    "new['Name'] = X_test_name\n",
    "new['Year'] = X_test_year\n"
   ],
   "id": "29da215149e0433d",
   "outputs": [],
   "execution_count": 216
  },
  {
   "metadata": {
    "ExecuteTime": {
     "end_time": "2024-12-14T21:48:31.996296Z",
     "start_time": "2024-12-14T21:48:31.982786Z"
    }
   },
   "cell_type": "code",
   "source": [
    "\n",
    "print(new)"
   ],
   "id": "1f7b5d11a8882d94",
   "outputs": [
    {
     "name": "stdout",
     "output_type": "stream",
     "text": [
      "     Prediction              Name  Year\n",
      "0     -0.433503        Mac Jones*  2020\n",
      "1      3.997786       Kyle Trask*  2020\n",
      "2     11.305869      Zach Wilson*  2020\n",
      "3     11.854365       Sam Howell*  2020\n",
      "4     15.129363   Dillon Gabriel*  2020\n",
      "..          ...               ...   ...\n",
      "145   15.932475        Mike Fouts  1995\n",
      "146   16.760530       Patrick Nix  1995\n",
      "147   16.984861  Mark Butterfield  1995\n",
      "148   14.431510         Mike Groh  1995\n",
      "149   19.254381     Tony Graziani  1995\n",
      "\n",
      "[150 rows x 3 columns]\n"
     ]
    }
   ],
   "execution_count": 217
  },
  {
   "metadata": {
    "ExecuteTime": {
     "end_time": "2024-12-14T21:48:32.089820Z",
     "start_time": "2024-12-14T21:48:32.075236Z"
    }
   },
   "cell_type": "code",
   "source": [
    "grouped = new.groupby('Year')\n",
    "years = []\n",
    "\n",
    "for year, group in grouped:\n",
    "    globals()[f\"df_{year}\"] = group\n",
    "    years.append(f\"df_{year}\")\n",
    "    "
   ],
   "id": "639bcbeadf16ec89",
   "outputs": [],
   "execution_count": 218
  },
  {
   "metadata": {
    "ExecuteTime": {
     "end_time": "2024-12-14T21:48:32.460236Z",
     "start_time": "2024-12-14T21:48:32.138191Z"
    }
   },
   "cell_type": "code",
   "source": [
    "for i in years:\n",
    "    globals()[f\"{i}\"] = globals()[f\"{i}\"].sort_values(by='Prediction', ascending=True).head(3)\n",
    "\n",
    "top = Test\n",
    "top = top.iloc[0:0]\n",
    "print(top)\n",
    "top.to_csv(\"Top_QB.csv\", index=False)\n",
    "\n",
    "for i in years:\n",
    "    for name in globals()[f\"{i}\"]['Name']:\n",
    "        # print(name)\n",
    "        r = Test[Test.apply(lambda row: row.astype(str).str.contains(name).any(), axis=1)] \n",
    "        r.reset_index(drop=True, inplace=True)\n",
    "        # # print(r.head(1))\n",
    "        \n",
    "        r.to_csv(\"Top_QB.csv\", mode='a', index=False, header=False)\n",
    "\n",
    "   \n"
   ],
   "id": "5a77d760ed635296",
   "outputs": [
    {
     "name": "stdout",
     "output_type": "stream",
     "text": [
      "Empty DataFrame\n",
      "Columns: [Rk, Player, Team, Conf, G, Cmp, Att, Cmp%, Yds, TD, TD%, Int, Int%, Y/A, AY/A, Y/C, Y/G, Rate, Awards, Year]\n",
      "Index: []\n"
     ]
    }
   ],
   "execution_count": 219
  },
  {
   "metadata": {
    "ExecuteTime": {
     "end_time": "2024-12-14T21:48:32.521948Z",
     "start_time": "2024-12-14T21:48:32.508614Z"
    }
   },
   "cell_type": "code",
   "source": "",
   "id": "a848eaae529792fa",
   "outputs": [],
   "execution_count": null
  }
 ],
 "metadata": {
  "kernelspec": {
   "display_name": "Python 3",
   "language": "python",
   "name": "python3"
  },
  "language_info": {
   "codemirror_mode": {
    "name": "ipython",
    "version": 2
   },
   "file_extension": ".py",
   "mimetype": "text/x-python",
   "name": "python",
   "nbconvert_exporter": "python",
   "pygments_lexer": "ipython2",
   "version": "2.7.6"
  }
 },
 "nbformat": 4,
 "nbformat_minor": 5
}
