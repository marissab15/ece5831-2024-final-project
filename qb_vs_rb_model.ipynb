{
 "cells": [
  {
   "cell_type": "markdown",
   "metadata": {},
   "source": [
    "# QB vs RB Model"
   ]
  },
  {
   "cell_type": "markdown",
   "metadata": {},
   "source": [
    "## Import Packages"
   ]
  },
  {
   "cell_type": "code",
   "execution_count": 2,
   "metadata": {},
   "outputs": [],
   "source": [
    "import pandas as pd"
   ]
  },
  {
   "cell_type": "code",
   "execution_count": 8,
   "metadata": {},
   "outputs": [
    {
     "name": "stdout",
     "output_type": "stream",
     "text": [
      "   Year          Best_QB  QB_Rank  QB_Games  Pass_Cmp  Pass_Att  Cmp%  \\\n",
      "0  2023  Jayden Daniels*        5        12       236       327  72.2   \n",
      "1  2022  Caleb Williams*        3        14       333       500  66.6   \n",
      "2  2021      Bryce Young        2        15       366       547  66.9   \n",
      "3  2020  Trevor Lawrence        8        10       231       334  69.2   \n",
      "4  2019      Joe Burrow*        1        15       402       527  76.3   \n",
      "\n",
      "   Pass_Yds  Pass_TD  Pass_TD%  ...  Int_per_Game  Rush_Att_per_Game  \\\n",
      "0      3812       40      12.2  ...      0.333333          20.357143   \n",
      "1      4537       42       8.4  ...      0.357143          20.583333   \n",
      "2      4872       47       8.6  ...      0.466667          21.916667   \n",
      "3      3153       24       7.2  ...      0.500000          19.307692   \n",
      "4      5671       60      11.4  ...      0.400000          22.857143   \n",
      "\n",
      "   Rush_Yds_per_Game  Rush_TD_per_Game  Rec_per_Game  Rcv_Yds_per_Game  \\\n",
      "0         123.714286               1.5      2.785714         23.571429   \n",
      "1         121.916667               1.5      0.916667          6.666667   \n",
      "2         136.333333               1.5      1.083333          7.416667   \n",
      "3         112.769231               2.0      3.307692         32.692308   \n",
      "4         143.071429               1.5      1.857143         18.000000   \n",
      "\n",
      "   Rcv_TD_per_Game ScrmgPlays_per_Game  Scrmg_Yds_per_Game  Scrmg_TD_per_Game  \n",
      "0         0.071429           23.142857          147.285714           1.571429  \n",
      "1         0.083333           21.500000          128.583333           1.583333  \n",
      "2         0.083333           23.000000          143.750000           1.583333  \n",
      "3         0.307692           22.615385          145.461538           2.307692  \n",
      "4         0.357143           24.714286          161.071429           1.857143  \n",
      "\n",
      "[5 rows x 47 columns]\n"
     ]
    }
   ],
   "source": [
    "input_df = pd.read_csv('Heisman_Winner_QB_vs_RB_Import.csv')\n",
    "#print(input_data_cv.head())\n",
    "\n",
    "#Standardize stats by # of games played\n",
    "input_df['Pass_Cmp_per_Game'] = input_df['Pass_Cmp']/input_df['QB_Games']\n",
    "input_df['Pass_Att_per_Game'] = input_df['Pass_Att']/input_df['QB_Games']\n",
    "input_df['Pass_Yds_per_Game'] = input_df['Pass_Yds']/input_df['QB_Games']\n",
    "input_df['Pass_TD_per_Game'] = input_df['Pass_TD']/input_df['QB_Games']\n",
    "input_df['Int_per_Game'] = input_df['Int']/input_df['QB_Games']\n",
    "\n",
    "input_df['Rush_Att_per_Game'] = input_df['Rush_Att']/input_df['RB_Games']\n",
    "input_df['Rush_Yds_per_Game'] = input_df['Rush_Yds']/input_df['RB_Games']\n",
    "input_df['Rush_TD_per_Game'] = input_df['Rush_TD']/input_df['RB_Games']\n",
    "input_df['Rec_per_Game'] = input_df['Rec']/input_df['RB_Games']\n",
    "input_df['Rcv_Yds_per_Game'] = input_df['Rcv_Yds']/input_df['RB_Games']\n",
    "input_df['Rcv_TD_per_Game'] = input_df['Rcv_TD']/input_df['RB_Games']\n",
    "input_df['ScrmgPlays_per_Game'] = input_df['ScrmgPlays']/input_df['RB_Games']\n",
    "input_df['Scrmg_Yds_per_Game'] = input_df['Scrmg_Yds']/input_df['RB_Games']\n",
    "input_df['Scrmg_TD_per_Game'] = input_df['Scrmg_TD']/input_df['RB_Games']\n",
    "print(input_df.head())"
   ]
  },
  {
   "cell_type": "markdown",
   "metadata": {},
   "source": []
  }
 ],
 "metadata": {
  "kernelspec": {
   "display_name": "Python 3",
   "language": "python",
   "name": "python3"
  },
  "language_info": {
   "codemirror_mode": {
    "name": "ipython",
    "version": 3
   },
   "file_extension": ".py",
   "mimetype": "text/x-python",
   "name": "python",
   "nbconvert_exporter": "python",
   "pygments_lexer": "ipython3",
   "version": "3.10.14"
  }
 },
 "nbformat": 4,
 "nbformat_minor": 2
}
